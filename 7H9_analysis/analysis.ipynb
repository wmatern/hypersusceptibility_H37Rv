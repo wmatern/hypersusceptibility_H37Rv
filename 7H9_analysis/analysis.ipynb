{
 "cells": [
  {
   "cell_type": "markdown",
   "metadata": {},
   "source": [
    "## Process all the data using TPP"
   ]
  },
  {
   "cell_type": "code",
   "execution_count": 33,
   "metadata": {},
   "outputs": [],
   "source": [
    "# TODO: Delete this cell before release\n",
    "# #Change the names of all the fastq files to SRA numbers for testing\n",
    "# from shutil import copyfile\n",
    "# import pandas as pd\n",
    "\n",
    "# samp_df = pd.read_csv('input/Sample_Labels.csv')\n",
    "# for uid, sra in zip(samp_df['Run_UID'],samp_df['SRA Accession']):\n",
    "#     f1 = 'input/'+uid + '_1.fastq'\n",
    "#     f1_out = 'input/'+sra + '_1.fastq'\n",
    "#     f2 = 'input/'+uid + '_2.fastq'\n",
    "#     f2_out = 'input/'+sra + '_2.fastq'\n",
    "    \n",
    "#     copyfile(f1, f1_out, follow_symlinks=False)\n",
    "#     copyfile(f2, f2_out, follow_symlinks=False)"
   ]
  },
  {
   "cell_type": "code",
   "execution_count": 10,
   "metadata": {},
   "outputs": [
    {
     "name": "stdout",
     "output_type": "stream",
     "text": [
      "******** Run 0: input/fastq/SRR23906901_1.fastq ********\n",
      "******** Run 0: input/fastq/SRR23906902_1.fastq ********\n",
      "Creating prefixes file with all prefixes from all runs...\n",
      "Created 'output/tpp_out/fastq_prefixes.txt'.\n",
      "\n",
      "Creating CSV file with all samples processed by TPP...\n",
      "[+] scripts/wig_gb_to_csv.py starting with parameters:\n",
      "....Wiggle prefix(es)         output/tpp_out/SRR23906901, output/tpp_out/SRR23906902\n",
      "....Record ID(s)              NC_000962.3\n",
      "....GenBank file:             input/Genome/GCF_000195955.2_ASM19595v2_genomic.gbff\n",
      "....Unique identifier fields: locus_tag, record_id_start_end_strand\n",
      "....Fields:                   product, regulatory_class, bound_moiety\n",
      "....Output file:              output/fastq.csv\n",
      "[+] Combining Wiggles with prefix '['output/tpp_out/SRR23906901', 'output/tpp_out/SRR23906902']' with Record ID 'NC_000962.3' from 'input/Genome/GCF_000195955.2_ASM19595v2_genomic.gbff'...\n",
      "[+] Finished processing Record ID 'NC_000962.3' successfully in 4.361125 seconds.\n",
      "[+] Finished processing all records successfully in 4.361145 seconds.\n",
      "[+] Writing CSV files...\n",
      "[+] 'output/fastq.csv' written.\n",
      "[+] Success. Exiting...\n",
      "Created 'output/fastq.csv'.\n",
      "\n",
      "********** TPP driver script finished in a total of 6 seconds **********\n"
     ]
    },
    {
     "name": "stderr",
     "output_type": "stream",
     "text": [
      "[!] [WARNING]: Mismatches within the second line of metadata from the Wiggle files.\n"
     ]
    }
   ],
   "source": [
    "%%bash\n",
    "#SET THESE VARIABLES FOR YOUR LOCAL FILE STRUCTURE:\n",
    "PATH_TO_DATA=input/fastq #Note: Any fastq files located here will be processed for alignment with tpp\n",
    "OUT_DIR=output\n",
    "TPP_OUT_DIR=tpp_out\n",
    "REFS=input/Genome/GCF_000195955.2_ASM19595v2_genomic.fna\n",
    "GENBANK_FILE=input/Genome/GCF_000195955.2_ASM19595v2_genomic.gbff\n",
    "\n",
    "#Definition of variables for processing\n",
    "PYTHON2=$(which python2)\n",
    "BWA=$(which bwa)\n",
    "BWA_ALG=\"aln\"\n",
    "\n",
    "REPLICON_ID=\"NC_000962.3\"\n",
    "FASTQ_DIR=$PATH_TO_DATA\n",
    "\n",
    "PREFIXES_OUTFILE=$OUT_DIR/$TPP_OUT_DIR/`basename $FASTQ_DIR`_prefixes.txt\n",
    "\n",
    "# These are used for creating a CSV file\n",
    "CSV_OUTFILE=$OUT_DIR/`basename $FASTQ_DIR`.csv\n",
    "UNIQUE_FIELDS=\"locus_tag\"\n",
    "FIELDS=\"product regulatory_class bound_moiety\"\n",
    "\n",
    "#Parameter settings for tpp\n",
    "PRIMER=AACCTGTTA\n",
    "MISMATCHES=2\n",
    "WINDOW_SIZE=6\n",
    "\n",
    "###################################################################\n",
    "\n",
    "#Gunzip all fastq.gz files:\n",
    "#gunzip -k $FASTQ_DIR/*.fastq.gz\n",
    "\n",
    "#Process raw fastq files using tpp\n",
    "COUNTER=0\n",
    "INITIAL_START_TIME=$SECONDS\n",
    "for FASTQ in $FASTQ_DIR/*_1.fastq; do\n",
    "#for FASTQ in $FASTQ_DIR/Rich_6d_H+_1_R1.fastq; do\n",
    "    echo \"******** Run $COUNTER: $FASTQ ********\"\n",
    "    READS1=$FASTQ\n",
    "    READS2=${FASTQ/_1.fastq/_2.fastq}\n",
    "\n",
    "    OUTNAME=$(basename $FASTQ)\n",
    "    OUTNAME=${OUTNAME/_1.fastq/}\n",
    "    #tpp -himar1 -bwa $BWA -bwa-alg $BWA_ALG -ref $REFS -replicon-ids $REPLICON_ID -reads1 $READS1 -reads2 $READS2 \\\n",
    "    #    -window-size $WINDOW_SIZE -primer $PRIMER -mismatches $MISMATCHES -output $OUT_DIR/$TPP_OUT_DIR/$OUTNAME &\n",
    "done\n",
    "wait\n",
    "\n",
    "echo \"Creating prefixes file with all prefixes from all runs...\"\n",
    "basename -a $OUT_DIR/$TPP_OUT_DIR/*.wig | rev | cut -c-4 --complement | rev | uniq > $PREFIXES_OUTFILE\n",
    "echo \"Created '$PREFIXES_OUTFILE'.\"\n",
    "echo \"\"\n",
    "echo \"Creating CSV file with all samples processed by TPP...\"\n",
    "$PYTHON2 scripts/wig_gb_to_csv.py -l $PREFIXES_OUTFILE -g $GENBANK_FILE -u $UNIQUE_FIELDS -f $FIELDS -o $CSV_OUTFILE\n",
    "echo \"Created '$CSV_OUTFILE'.\"\n",
    "echo \"\"\n",
    "(( TOTAL_RUN_TIME = SECONDS - INITIAL_START_TIME )) \n",
    "echo \"********** TPP driver script finished in a total of $TOTAL_RUN_TIME seconds **********\""
   ]
  },
  {
   "cell_type": "code",
   "execution_count": 26,
   "metadata": {},
   "outputs": [
    {
     "name": "stdout",
     "output_type": "stream",
     "text": [
      "JT test run time: 2.127500295639038\n",
      "JT test run time: 2.0444419384002686\n"
     ]
    },
    {
     "name": "stderr",
     "output_type": "stream",
     "text": [
      "/home/will/Professional/JHU/Research/baderlab/Drafts/2022-08-06_Mtb_Hypersusceptibility_paper/final_code/7H9_analysis/scripts/hypersus_helper.py:61: FutureWarning: In a future version of pandas, a length 1 tuple will be returned when iterating over a groupby with a grouper equal to a list of length 1. Don't supply a list with a single grouper to avoid this warning.\n",
      "  for name,g in df.groupby(['uid'],sort=False):\n",
      "/home/will/Professional/JHU/Research/baderlab/Drafts/2022-08-06_Mtb_Hypersusceptibility_paper/final_code/7H9_analysis/scripts/hypersus_helper.py:61: FutureWarning: In a future version of pandas, a length 1 tuple will be returned when iterating over a groupby with a grouper equal to a list of length 1. Don't supply a list with a single grouper to avoid this warning.\n",
      "  for name,g in df.groupby(['uid'],sort=False):\n"
     ]
    }
   ],
   "source": [
    "%%bash\n",
    "#Run analysis script (depends on the file output/input.csv in order to run)\n",
    "\n",
    "python3 scripts/hypersus_analysis.py "
   ]
  },
  {
   "cell_type": "code",
   "execution_count": 27,
   "metadata": {},
   "outputs": [
    {
     "name": "stderr",
     "output_type": "stream",
     "text": [
      "/home/will/src_and_bin/Other_Software/miniconda3/envs/tnseq_avium_abx_fordistro/lib/python2.7/site-packages/ipykernel_launcher.py:33: SettingWithCopyWarning: \n",
      "A value is trying to be set on a copy of a slice from a DataFrame\n",
      "\n",
      "See the caveats in the documentation: http://pandas.pydata.org/pandas-docs/stable/indexing.html#indexing-view-versus-copy\n",
      "/home/will/src_and_bin/Other_Software/miniconda3/envs/tnseq_avium_abx_fordistro/lib/python2.7/site-packages/ipykernel_launcher.py:34: SettingWithCopyWarning: \n",
      "A value is trying to be set on a copy of a slice from a DataFrame\n",
      "\n",
      "See the caveats in the documentation: http://pandas.pydata.org/pandas-docs/stable/indexing.html#indexing-view-versus-copy\n"
     ]
    }
   ],
   "source": [
    "#Reorganize data for TableS1\n",
    "infold = 'output/hypersus_analysis/'\n",
    "outfold = 'output/hypersus_analysis/'\n",
    "\n",
    "lfc_thresh = 0.5\n",
    "padj_thresh = 0.05\n",
    "\n",
    "import pandas as pd\n",
    "import numpy as np\n",
    "from math import log10, floor\n",
    "\n",
    "def round_sig(x, sig=2):\n",
    "    #Implement significant figures in python\n",
    "    if np.isnan(x):\n",
    "        return(np.nan)\n",
    "    return round(x, sig-int(floor(log10(abs(x))))-1)\n",
    "\n",
    "def make_tables(infilename12h, outfilename, treatment, drug_dose_ls):\n",
    "    #Merges tables output from analysis and changes formatting for disribution (TableS1)\n",
    "    \n",
    "    abx12_df = pd.read_csv(infilename12h).rename({'pval-adj (BH)':'padj'},axis='columns')\n",
    "\n",
    "    abx12_df[treatment+['pval','padj']] = abx12_df[treatment+['pval','padj']].applymap(round_sig)\n",
    "\n",
    "    merged_df = abx12_df\n",
    "    merged_df['Prediction'] = 'Not Significant'\n",
    "    hypersus_bool = ((merged_df['padj'] < padj_thresh) & \\\n",
    "                (merged_df[treatment[-1]] < -lfc_thresh))\n",
    "    hypertol_bool = ((merged_df['padj'] < padj_thresh) & \\\n",
    "                (merged_df[treatment[-1]] > lfc_thresh))\n",
    "\n",
    "    merged_df = merged_df.rename({'uid':'Genomic Feature','product':'Genbank Annotation'}, axis=1)\n",
    "    merged_df = merged_df.rename({treatment[0]:drug_dose_ls[0] + '- LFC'}, axis=1)\n",
    "    \n",
    "    merged_df['Prediction'][hypersus_bool]='Hypersusceptible'\n",
    "    merged_df['Prediction'][hypertol_bool]='Hypertolerant'\n",
    "\n",
    "    merged_df.to_csv(outfilename,index=False)\n",
    "\n",
    "treatment = ['H+']\n",
    "drug_dose_ls = ['Isoniazid (0.01ug/mL)']\n",
    "make_tables(infold+'summary_6d_INH.csv', outfold+'TableS1_INH.csv', treatment, drug_dose_ls)\n",
    "\n",
    "treatment = ['R+']\n",
    "drug_dose_ls = ['Rifampin (0.04ug/mL)']\n",
    "make_tables(infold+'summary_6d_RMP.csv', outfold+'TableS2_RMP.csv', treatment, drug_dose_ls)"
   ]
  },
  {
   "cell_type": "code",
   "execution_count": null,
   "metadata": {},
   "outputs": [],
   "source": []
  }
 ],
 "metadata": {
  "kernelspec": {
   "display_name": "Python 3 (ipykernel)",
   "language": "python",
   "name": "python3"
  },
  "language_info": {
   "codemirror_mode": {
    "name": "ipython",
    "version": 2
   },
   "file_extension": ".py",
   "mimetype": "text/x-python",
   "name": "python",
   "nbconvert_exporter": "python",
   "pygments_lexer": "ipython2",
   "version": "2.7.15"
  }
 },
 "nbformat": 4,
 "nbformat_minor": 2
}
